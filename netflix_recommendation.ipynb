{
  "nbformat": 4,
  "nbformat_minor": 0,
  "metadata": {
    "colab": {
      "provenance": [],
      "include_colab_link": true
    },
    "kernelspec": {
      "name": "python3",
      "display_name": "Python 3"
    },
    "language_info": {
      "name": "python"
    }
  },
  "cells": [
    {
      "cell_type": "markdown",
      "metadata": {
        "id": "view-in-github",
        "colab_type": "text"
      },
      "source": [
        "<a href=\"https://colab.research.google.com/github/SHASHIKATSHEGOKAR/Recommendation_System-/blob/main/netflix_recommendation.ipynb\" target=\"_parent\"><img src=\"https://colab.research.google.com/assets/colab-badge.svg\" alt=\"Open In Colab\"/></a>"
      ]
    },
    {
      "cell_type": "markdown",
      "source": [
        "**Importing Librarys**"
      ],
      "metadata": {
        "id": "qNJVJQK84_q1"
      }
    },
    {
      "cell_type": "code",
      "source": [
        "import pandas as pd\n",
        "import numpy as np\n",
        "from scipy.sparse import csr_matrix\n",
        "from sklearn.neighbors import NearestNeighbors\n",
        "import matplotlib.pyplot as plt\n",
        "import seaborn as sns\n",
        "from sklearn.metrics.pairwise import linear_kernel"
      ],
      "metadata": {
        "id": "BDDL0hhCGObd"
      },
      "execution_count": null,
      "outputs": []
    },
    {
      "cell_type": "markdown",
      "source": [
        "**Loading Dataset and some EDA**"
      ],
      "metadata": {
        "id": "VcQKL85z5GNK"
      }
    },
    {
      "cell_type": "code",
      "source": [
        "df = pd.read_csv('netflix.csv')\n",
        "df.head()"
      ],
      "metadata": {
        "colab": {
          "base_uri": "https://localhost:8080/",
          "height": 693
        },
        "id": "CrI9ZXBZI4rr",
        "outputId": "d328006a-b4e3-4f18-ffa1-dfd247c86e2c"
      },
      "execution_count": null,
      "outputs": [
        {
          "output_type": "execute_result",
          "data": {
            "text/plain": [
              "     imdb_id                title popular_rank certificate  startYear  \\\n",
              "0  tt4052886              Lucifer            1          15     2016.0   \n",
              "1  tt0993840     Army of the Dead            2          18     2021.0   \n",
              "2  tt7255502  The Kominsky Method            3          18     2018.0   \n",
              "3  tt0108778              Friends            4         13+     1994.0   \n",
              "4  tt9251798             Ragnarok            5          18     2020.0   \n",
              "\n",
              "   endYear  episodes runtime      type  orign_country   language  \\\n",
              "0      NaN      93.0      42  tvSeries  United States    English   \n",
              "1      NaN       NaN     148     movie  United States    English   \n",
              "2   2021.0      22.0      30  tvSeries  United States    English   \n",
              "3   2004.0     235.0      22  tvSeries  United States    English   \n",
              "4      NaN      12.0      45  tvSeries         Norway  Norwegian   \n",
              "\n",
              "                                                plot  \\\n",
              "0  Lucifer Morningstar has decided he's had enoug...   \n",
              "1  Following a zombie outbreak in Las Vegas, a gr...   \n",
              "2  An aging actor, who long ago enjoyed a brush w...   \n",
              "3  Follows the personal and professional lives of...   \n",
              "4  A small Norwegian town experiencing warm winte...   \n",
              "\n",
              "                                             summary  rating  numVotes  \\\n",
              "0  Lucifer Morningstar, bored from his sulking li...     8.1  250884.0   \n",
              "1  With the abandoned, walled city of Las Vegas o...     5.8  110780.0   \n",
              "2  Michael Douglas plays an actor who made it big...     8.2   28795.0   \n",
              "3  Ross Geller, Rachel Green, Monica Geller, Joey...     8.9  861843.0   \n",
              "4  In the small fictional town of Edda coming of ...     7.5   26606.0   \n",
              "\n",
              "                 genres  isAdult  \\\n",
              "0   Crime,Drama,Fantasy        0   \n",
              "1   Action,Crime,Horror        0   \n",
              "2          Comedy,Drama        0   \n",
              "3        Comedy,Romance        0   \n",
              "4  Action,Drama,Fantasy        0   \n",
              "\n",
              "                                                cast  \\\n",
              "0  ['Tom Ellis', 'Lauren German', 'Lesley-Ann Bra...   \n",
              "1  ['Dave Bautista', 'Ella Purnell', 'Ana de la R...   \n",
              "2  ['Michael Douglas', 'Sarah Baker', 'Graham Rog...   \n",
              "3  ['Jennifer Aniston', 'Courteney Cox', 'Lisa Ku...   \n",
              "4  ['David Stakston', 'Jonas Strand Gravli', 'Her...   \n",
              "\n",
              "                                           image_url  \n",
              "0  https://m.media-amazon.com/images/M/MV5BNzY1Yj...  \n",
              "1  https://m.media-amazon.com/images/M/MV5BNGY0Nz...  \n",
              "2  https://m.media-amazon.com/images/M/MV5BMzA0YT...  \n",
              "3  https://m.media-amazon.com/images/M/MV5BNDVkYj...  \n",
              "4  https://m.media-amazon.com/images/M/MV5BODM3NT...  "
            ],
            "text/html": [
              "\n",
              "  <div id=\"df-0c5608d3-a58a-4f4c-bf02-f69980a9c5ed\">\n",
              "    <div class=\"colab-df-container\">\n",
              "      <div>\n",
              "<style scoped>\n",
              "    .dataframe tbody tr th:only-of-type {\n",
              "        vertical-align: middle;\n",
              "    }\n",
              "\n",
              "    .dataframe tbody tr th {\n",
              "        vertical-align: top;\n",
              "    }\n",
              "\n",
              "    .dataframe thead th {\n",
              "        text-align: right;\n",
              "    }\n",
              "</style>\n",
              "<table border=\"1\" class=\"dataframe\">\n",
              "  <thead>\n",
              "    <tr style=\"text-align: right;\">\n",
              "      <th></th>\n",
              "      <th>imdb_id</th>\n",
              "      <th>title</th>\n",
              "      <th>popular_rank</th>\n",
              "      <th>certificate</th>\n",
              "      <th>startYear</th>\n",
              "      <th>endYear</th>\n",
              "      <th>episodes</th>\n",
              "      <th>runtime</th>\n",
              "      <th>type</th>\n",
              "      <th>orign_country</th>\n",
              "      <th>language</th>\n",
              "      <th>plot</th>\n",
              "      <th>summary</th>\n",
              "      <th>rating</th>\n",
              "      <th>numVotes</th>\n",
              "      <th>genres</th>\n",
              "      <th>isAdult</th>\n",
              "      <th>cast</th>\n",
              "      <th>image_url</th>\n",
              "    </tr>\n",
              "  </thead>\n",
              "  <tbody>\n",
              "    <tr>\n",
              "      <th>0</th>\n",
              "      <td>tt4052886</td>\n",
              "      <td>Lucifer</td>\n",
              "      <td>1</td>\n",
              "      <td>15</td>\n",
              "      <td>2016.0</td>\n",
              "      <td>NaN</td>\n",
              "      <td>93.0</td>\n",
              "      <td>42</td>\n",
              "      <td>tvSeries</td>\n",
              "      <td>United States</td>\n",
              "      <td>English</td>\n",
              "      <td>Lucifer Morningstar has decided he's had enoug...</td>\n",
              "      <td>Lucifer Morningstar, bored from his sulking li...</td>\n",
              "      <td>8.1</td>\n",
              "      <td>250884.0</td>\n",
              "      <td>Crime,Drama,Fantasy</td>\n",
              "      <td>0</td>\n",
              "      <td>['Tom Ellis', 'Lauren German', 'Lesley-Ann Bra...</td>\n",
              "      <td>https://m.media-amazon.com/images/M/MV5BNzY1Yj...</td>\n",
              "    </tr>\n",
              "    <tr>\n",
              "      <th>1</th>\n",
              "      <td>tt0993840</td>\n",
              "      <td>Army of the Dead</td>\n",
              "      <td>2</td>\n",
              "      <td>18</td>\n",
              "      <td>2021.0</td>\n",
              "      <td>NaN</td>\n",
              "      <td>NaN</td>\n",
              "      <td>148</td>\n",
              "      <td>movie</td>\n",
              "      <td>United States</td>\n",
              "      <td>English</td>\n",
              "      <td>Following a zombie outbreak in Las Vegas, a gr...</td>\n",
              "      <td>With the abandoned, walled city of Las Vegas o...</td>\n",
              "      <td>5.8</td>\n",
              "      <td>110780.0</td>\n",
              "      <td>Action,Crime,Horror</td>\n",
              "      <td>0</td>\n",
              "      <td>['Dave Bautista', 'Ella Purnell', 'Ana de la R...</td>\n",
              "      <td>https://m.media-amazon.com/images/M/MV5BNGY0Nz...</td>\n",
              "    </tr>\n",
              "    <tr>\n",
              "      <th>2</th>\n",
              "      <td>tt7255502</td>\n",
              "      <td>The Kominsky Method</td>\n",
              "      <td>3</td>\n",
              "      <td>18</td>\n",
              "      <td>2018.0</td>\n",
              "      <td>2021.0</td>\n",
              "      <td>22.0</td>\n",
              "      <td>30</td>\n",
              "      <td>tvSeries</td>\n",
              "      <td>United States</td>\n",
              "      <td>English</td>\n",
              "      <td>An aging actor, who long ago enjoyed a brush w...</td>\n",
              "      <td>Michael Douglas plays an actor who made it big...</td>\n",
              "      <td>8.2</td>\n",
              "      <td>28795.0</td>\n",
              "      <td>Comedy,Drama</td>\n",
              "      <td>0</td>\n",
              "      <td>['Michael Douglas', 'Sarah Baker', 'Graham Rog...</td>\n",
              "      <td>https://m.media-amazon.com/images/M/MV5BMzA0YT...</td>\n",
              "    </tr>\n",
              "    <tr>\n",
              "      <th>3</th>\n",
              "      <td>tt0108778</td>\n",
              "      <td>Friends</td>\n",
              "      <td>4</td>\n",
              "      <td>13+</td>\n",
              "      <td>1994.0</td>\n",
              "      <td>2004.0</td>\n",
              "      <td>235.0</td>\n",
              "      <td>22</td>\n",
              "      <td>tvSeries</td>\n",
              "      <td>United States</td>\n",
              "      <td>English</td>\n",
              "      <td>Follows the personal and professional lives of...</td>\n",
              "      <td>Ross Geller, Rachel Green, Monica Geller, Joey...</td>\n",
              "      <td>8.9</td>\n",
              "      <td>861843.0</td>\n",
              "      <td>Comedy,Romance</td>\n",
              "      <td>0</td>\n",
              "      <td>['Jennifer Aniston', 'Courteney Cox', 'Lisa Ku...</td>\n",
              "      <td>https://m.media-amazon.com/images/M/MV5BNDVkYj...</td>\n",
              "    </tr>\n",
              "    <tr>\n",
              "      <th>4</th>\n",
              "      <td>tt9251798</td>\n",
              "      <td>Ragnarok</td>\n",
              "      <td>5</td>\n",
              "      <td>18</td>\n",
              "      <td>2020.0</td>\n",
              "      <td>NaN</td>\n",
              "      <td>12.0</td>\n",
              "      <td>45</td>\n",
              "      <td>tvSeries</td>\n",
              "      <td>Norway</td>\n",
              "      <td>Norwegian</td>\n",
              "      <td>A small Norwegian town experiencing warm winte...</td>\n",
              "      <td>In the small fictional town of Edda coming of ...</td>\n",
              "      <td>7.5</td>\n",
              "      <td>26606.0</td>\n",
              "      <td>Action,Drama,Fantasy</td>\n",
              "      <td>0</td>\n",
              "      <td>['David Stakston', 'Jonas Strand Gravli', 'Her...</td>\n",
              "      <td>https://m.media-amazon.com/images/M/MV5BODM3NT...</td>\n",
              "    </tr>\n",
              "  </tbody>\n",
              "</table>\n",
              "</div>\n",
              "      <button class=\"colab-df-convert\" onclick=\"convertToInteractive('df-0c5608d3-a58a-4f4c-bf02-f69980a9c5ed')\"\n",
              "              title=\"Convert this dataframe to an interactive table.\"\n",
              "              style=\"display:none;\">\n",
              "        \n",
              "  <svg xmlns=\"http://www.w3.org/2000/svg\" height=\"24px\"viewBox=\"0 0 24 24\"\n",
              "       width=\"24px\">\n",
              "    <path d=\"M0 0h24v24H0V0z\" fill=\"none\"/>\n",
              "    <path d=\"M18.56 5.44l.94 2.06.94-2.06 2.06-.94-2.06-.94-.94-2.06-.94 2.06-2.06.94zm-11 1L8.5 8.5l.94-2.06 2.06-.94-2.06-.94L8.5 2.5l-.94 2.06-2.06.94zm10 10l.94 2.06.94-2.06 2.06-.94-2.06-.94-.94-2.06-.94 2.06-2.06.94z\"/><path d=\"M17.41 7.96l-1.37-1.37c-.4-.4-.92-.59-1.43-.59-.52 0-1.04.2-1.43.59L10.3 9.45l-7.72 7.72c-.78.78-.78 2.05 0 2.83L4 21.41c.39.39.9.59 1.41.59.51 0 1.02-.2 1.41-.59l7.78-7.78 2.81-2.81c.8-.78.8-2.07 0-2.86zM5.41 20L4 18.59l7.72-7.72 1.47 1.35L5.41 20z\"/>\n",
              "  </svg>\n",
              "      </button>\n",
              "      \n",
              "  <style>\n",
              "    .colab-df-container {\n",
              "      display:flex;\n",
              "      flex-wrap:wrap;\n",
              "      gap: 12px;\n",
              "    }\n",
              "\n",
              "    .colab-df-convert {\n",
              "      background-color: #E8F0FE;\n",
              "      border: none;\n",
              "      border-radius: 50%;\n",
              "      cursor: pointer;\n",
              "      display: none;\n",
              "      fill: #1967D2;\n",
              "      height: 32px;\n",
              "      padding: 0 0 0 0;\n",
              "      width: 32px;\n",
              "    }\n",
              "\n",
              "    .colab-df-convert:hover {\n",
              "      background-color: #E2EBFA;\n",
              "      box-shadow: 0px 1px 2px rgba(60, 64, 67, 0.3), 0px 1px 3px 1px rgba(60, 64, 67, 0.15);\n",
              "      fill: #174EA6;\n",
              "    }\n",
              "\n",
              "    [theme=dark] .colab-df-convert {\n",
              "      background-color: #3B4455;\n",
              "      fill: #D2E3FC;\n",
              "    }\n",
              "\n",
              "    [theme=dark] .colab-df-convert:hover {\n",
              "      background-color: #434B5C;\n",
              "      box-shadow: 0px 1px 3px 1px rgba(0, 0, 0, 0.15);\n",
              "      filter: drop-shadow(0px 1px 2px rgba(0, 0, 0, 0.3));\n",
              "      fill: #FFFFFF;\n",
              "    }\n",
              "  </style>\n",
              "\n",
              "      <script>\n",
              "        const buttonEl =\n",
              "          document.querySelector('#df-0c5608d3-a58a-4f4c-bf02-f69980a9c5ed button.colab-df-convert');\n",
              "        buttonEl.style.display =\n",
              "          google.colab.kernel.accessAllowed ? 'block' : 'none';\n",
              "\n",
              "        async function convertToInteractive(key) {\n",
              "          const element = document.querySelector('#df-0c5608d3-a58a-4f4c-bf02-f69980a9c5ed');\n",
              "          const dataTable =\n",
              "            await google.colab.kernel.invokeFunction('convertToInteractive',\n",
              "                                                     [key], {});\n",
              "          if (!dataTable) return;\n",
              "\n",
              "          const docLinkHtml = 'Like what you see? Visit the ' +\n",
              "            '<a target=\"_blank\" href=https://colab.research.google.com/notebooks/data_table.ipynb>data table notebook</a>'\n",
              "            + ' to learn more about interactive tables.';\n",
              "          element.innerHTML = '';\n",
              "          dataTable['output_type'] = 'display_data';\n",
              "          await google.colab.output.renderOutput(dataTable, element);\n",
              "          const docLink = document.createElement('div');\n",
              "          docLink.innerHTML = docLinkHtml;\n",
              "          element.appendChild(docLink);\n",
              "        }\n",
              "      </script>\n",
              "    </div>\n",
              "  </div>\n",
              "  "
            ]
          },
          "metadata": {},
          "execution_count": 3
        }
      ]
    },
    {
      "cell_type": "code",
      "source": [
        "df.mean()"
      ],
      "metadata": {
        "colab": {
          "base_uri": "https://localhost:8080/"
        },
        "id": "jTlwFuXEJQJY",
        "outputId": "923de7a2-878a-4aa2-9a67-d5fb739d890d"
      },
      "execution_count": null,
      "outputs": [
        {
          "output_type": "stream",
          "name": "stderr",
          "text": [
            "/usr/local/lib/python3.7/dist-packages/ipykernel_launcher.py:1: FutureWarning: Dropping of nuisance columns in DataFrame reductions (with 'numeric_only=None') is deprecated; in a future version this will raise TypeError.  Select only valid columns before calling the reduction.\n",
            "  \"\"\"Entry point for launching an IPython kernel.\n"
          ]
        },
        {
          "output_type": "execute_result",
          "data": {
            "text/plain": [
              "startYear     2015.606653\n",
              "endYear       2016.613677\n",
              "episodes        38.510851\n",
              "rating           6.696400\n",
              "numVotes     19617.784833\n",
              "isAdult          0.000000\n",
              "dtype: float64"
            ]
          },
          "metadata": {},
          "execution_count": 5
        }
      ]
    },
    {
      "cell_type": "code",
      "source": [
        "df.describe(include='O')"
      ],
      "metadata": {
        "colab": {
          "base_uri": "https://localhost:8080/",
          "height": 254
        },
        "id": "wFJq3GHiJZsv",
        "outputId": "d6a22703-5cc2-474d-80e0-e32829270a52"
      },
      "execution_count": null,
      "outputs": [
        {
          "output_type": "execute_result",
          "data": {
            "text/plain": [
              "          imdb_id    title popular_rank certificate runtime   type  \\\n",
              "count        7008     7008         7008        2409    7006   7006   \n",
              "unique       7008     7008         7008          24     260     10   \n",
              "top     tt4052886  Lucifer            1          18      \\N  movie   \n",
              "freq            1        1            1         625    1582   2923   \n",
              "\n",
              "        orign_country language  plot summary  genres  cast  \\\n",
              "count            7008     7008  6609    7008    7006  7008   \n",
              "unique             82       71  6331    6332     500  6281   \n",
              "top     United States  English     -       -  Comedy     -   \n",
              "freq             2836     3834   277     676     713   604   \n",
              "\n",
              "                                                image_url  \n",
              "count                                                7008  \n",
              "unique                                               6177  \n",
              "top     https://m.media-amazon.com/images/G/01/imdb/im...  \n",
              "freq                                                  826  "
            ],
            "text/html": [
              "\n",
              "  <div id=\"df-fbc1ddfb-928d-4880-b542-47c0a1c282e0\">\n",
              "    <div class=\"colab-df-container\">\n",
              "      <div>\n",
              "<style scoped>\n",
              "    .dataframe tbody tr th:only-of-type {\n",
              "        vertical-align: middle;\n",
              "    }\n",
              "\n",
              "    .dataframe tbody tr th {\n",
              "        vertical-align: top;\n",
              "    }\n",
              "\n",
              "    .dataframe thead th {\n",
              "        text-align: right;\n",
              "    }\n",
              "</style>\n",
              "<table border=\"1\" class=\"dataframe\">\n",
              "  <thead>\n",
              "    <tr style=\"text-align: right;\">\n",
              "      <th></th>\n",
              "      <th>imdb_id</th>\n",
              "      <th>title</th>\n",
              "      <th>popular_rank</th>\n",
              "      <th>certificate</th>\n",
              "      <th>runtime</th>\n",
              "      <th>type</th>\n",
              "      <th>orign_country</th>\n",
              "      <th>language</th>\n",
              "      <th>plot</th>\n",
              "      <th>summary</th>\n",
              "      <th>genres</th>\n",
              "      <th>cast</th>\n",
              "      <th>image_url</th>\n",
              "    </tr>\n",
              "  </thead>\n",
              "  <tbody>\n",
              "    <tr>\n",
              "      <th>count</th>\n",
              "      <td>7008</td>\n",
              "      <td>7008</td>\n",
              "      <td>7008</td>\n",
              "      <td>2409</td>\n",
              "      <td>7006</td>\n",
              "      <td>7006</td>\n",
              "      <td>7008</td>\n",
              "      <td>7008</td>\n",
              "      <td>6609</td>\n",
              "      <td>7008</td>\n",
              "      <td>7006</td>\n",
              "      <td>7008</td>\n",
              "      <td>7008</td>\n",
              "    </tr>\n",
              "    <tr>\n",
              "      <th>unique</th>\n",
              "      <td>7008</td>\n",
              "      <td>7008</td>\n",
              "      <td>7008</td>\n",
              "      <td>24</td>\n",
              "      <td>260</td>\n",
              "      <td>10</td>\n",
              "      <td>82</td>\n",
              "      <td>71</td>\n",
              "      <td>6331</td>\n",
              "      <td>6332</td>\n",
              "      <td>500</td>\n",
              "      <td>6281</td>\n",
              "      <td>6177</td>\n",
              "    </tr>\n",
              "    <tr>\n",
              "      <th>top</th>\n",
              "      <td>tt4052886</td>\n",
              "      <td>Lucifer</td>\n",
              "      <td>1</td>\n",
              "      <td>18</td>\n",
              "      <td>\\N</td>\n",
              "      <td>movie</td>\n",
              "      <td>United States</td>\n",
              "      <td>English</td>\n",
              "      <td>-</td>\n",
              "      <td>-</td>\n",
              "      <td>Comedy</td>\n",
              "      <td>-</td>\n",
              "      <td>https://m.media-amazon.com/images/G/01/imdb/im...</td>\n",
              "    </tr>\n",
              "    <tr>\n",
              "      <th>freq</th>\n",
              "      <td>1</td>\n",
              "      <td>1</td>\n",
              "      <td>1</td>\n",
              "      <td>625</td>\n",
              "      <td>1582</td>\n",
              "      <td>2923</td>\n",
              "      <td>2836</td>\n",
              "      <td>3834</td>\n",
              "      <td>277</td>\n",
              "      <td>676</td>\n",
              "      <td>713</td>\n",
              "      <td>604</td>\n",
              "      <td>826</td>\n",
              "    </tr>\n",
              "  </tbody>\n",
              "</table>\n",
              "</div>\n",
              "      <button class=\"colab-df-convert\" onclick=\"convertToInteractive('df-fbc1ddfb-928d-4880-b542-47c0a1c282e0')\"\n",
              "              title=\"Convert this dataframe to an interactive table.\"\n",
              "              style=\"display:none;\">\n",
              "        \n",
              "  <svg xmlns=\"http://www.w3.org/2000/svg\" height=\"24px\"viewBox=\"0 0 24 24\"\n",
              "       width=\"24px\">\n",
              "    <path d=\"M0 0h24v24H0V0z\" fill=\"none\"/>\n",
              "    <path d=\"M18.56 5.44l.94 2.06.94-2.06 2.06-.94-2.06-.94-.94-2.06-.94 2.06-2.06.94zm-11 1L8.5 8.5l.94-2.06 2.06-.94-2.06-.94L8.5 2.5l-.94 2.06-2.06.94zm10 10l.94 2.06.94-2.06 2.06-.94-2.06-.94-.94-2.06-.94 2.06-2.06.94z\"/><path d=\"M17.41 7.96l-1.37-1.37c-.4-.4-.92-.59-1.43-.59-.52 0-1.04.2-1.43.59L10.3 9.45l-7.72 7.72c-.78.78-.78 2.05 0 2.83L4 21.41c.39.39.9.59 1.41.59.51 0 1.02-.2 1.41-.59l7.78-7.78 2.81-2.81c.8-.78.8-2.07 0-2.86zM5.41 20L4 18.59l7.72-7.72 1.47 1.35L5.41 20z\"/>\n",
              "  </svg>\n",
              "      </button>\n",
              "      \n",
              "  <style>\n",
              "    .colab-df-container {\n",
              "      display:flex;\n",
              "      flex-wrap:wrap;\n",
              "      gap: 12px;\n",
              "    }\n",
              "\n",
              "    .colab-df-convert {\n",
              "      background-color: #E8F0FE;\n",
              "      border: none;\n",
              "      border-radius: 50%;\n",
              "      cursor: pointer;\n",
              "      display: none;\n",
              "      fill: #1967D2;\n",
              "      height: 32px;\n",
              "      padding: 0 0 0 0;\n",
              "      width: 32px;\n",
              "    }\n",
              "\n",
              "    .colab-df-convert:hover {\n",
              "      background-color: #E2EBFA;\n",
              "      box-shadow: 0px 1px 2px rgba(60, 64, 67, 0.3), 0px 1px 3px 1px rgba(60, 64, 67, 0.15);\n",
              "      fill: #174EA6;\n",
              "    }\n",
              "\n",
              "    [theme=dark] .colab-df-convert {\n",
              "      background-color: #3B4455;\n",
              "      fill: #D2E3FC;\n",
              "    }\n",
              "\n",
              "    [theme=dark] .colab-df-convert:hover {\n",
              "      background-color: #434B5C;\n",
              "      box-shadow: 0px 1px 3px 1px rgba(0, 0, 0, 0.15);\n",
              "      filter: drop-shadow(0px 1px 2px rgba(0, 0, 0, 0.3));\n",
              "      fill: #FFFFFF;\n",
              "    }\n",
              "  </style>\n",
              "\n",
              "      <script>\n",
              "        const buttonEl =\n",
              "          document.querySelector('#df-fbc1ddfb-928d-4880-b542-47c0a1c282e0 button.colab-df-convert');\n",
              "        buttonEl.style.display =\n",
              "          google.colab.kernel.accessAllowed ? 'block' : 'none';\n",
              "\n",
              "        async function convertToInteractive(key) {\n",
              "          const element = document.querySelector('#df-fbc1ddfb-928d-4880-b542-47c0a1c282e0');\n",
              "          const dataTable =\n",
              "            await google.colab.kernel.invokeFunction('convertToInteractive',\n",
              "                                                     [key], {});\n",
              "          if (!dataTable) return;\n",
              "\n",
              "          const docLinkHtml = 'Like what you see? Visit the ' +\n",
              "            '<a target=\"_blank\" href=https://colab.research.google.com/notebooks/data_table.ipynb>data table notebook</a>'\n",
              "            + ' to learn more about interactive tables.';\n",
              "          element.innerHTML = '';\n",
              "          dataTable['output_type'] = 'display_data';\n",
              "          await google.colab.output.renderOutput(dataTable, element);\n",
              "          const docLink = document.createElement('div');\n",
              "          docLink.innerHTML = docLinkHtml;\n",
              "          element.appendChild(docLink);\n",
              "        }\n",
              "      </script>\n",
              "    </div>\n",
              "  </div>\n",
              "  "
            ]
          },
          "metadata": {},
          "execution_count": 6
        }
      ]
    },
    {
      "cell_type": "code",
      "source": [
        "df.describe()"
      ],
      "metadata": {
        "colab": {
          "base_uri": "https://localhost:8080/",
          "height": 297
        },
        "id": "Z_JgeTz6JydA",
        "outputId": "806624e3-1190-4aac-ff4b-223481e41799"
      },
      "execution_count": null,
      "outputs": [
        {
          "output_type": "execute_result",
          "data": {
            "text/plain": [
              "         startYear      endYear     episodes       rating      numVotes  \\\n",
              "count  6493.000000  1126.000000  2304.000000  6000.000000  6.000000e+03   \n",
              "mean   2015.606653  2016.613677    38.510851     6.696400  1.961778e+04   \n",
              "std       7.855886     5.195806   237.894838     1.209824  7.975237e+04   \n",
              "min    1932.000000  1969.000000     1.000000     1.700000  5.000000e+00   \n",
              "25%    2015.000000  2016.000000     8.000000     6.000000  3.040000e+02   \n",
              "50%    2017.000000  2018.000000    14.000000     6.800000  1.312000e+03   \n",
              "75%    2019.000000  2019.000000    30.000000     7.600000  6.166750e+03   \n",
              "max    2022.000000  2022.000000  8358.000000     9.700000  1.697849e+06   \n",
              "\n",
              "       isAdult  \n",
              "count   7008.0  \n",
              "mean       0.0  \n",
              "std        0.0  \n",
              "min        0.0  \n",
              "25%        0.0  \n",
              "50%        0.0  \n",
              "75%        0.0  \n",
              "max        0.0  "
            ],
            "text/html": [
              "\n",
              "  <div id=\"df-01c9a481-15a7-4be2-ace1-ebd19b3005eb\">\n",
              "    <div class=\"colab-df-container\">\n",
              "      <div>\n",
              "<style scoped>\n",
              "    .dataframe tbody tr th:only-of-type {\n",
              "        vertical-align: middle;\n",
              "    }\n",
              "\n",
              "    .dataframe tbody tr th {\n",
              "        vertical-align: top;\n",
              "    }\n",
              "\n",
              "    .dataframe thead th {\n",
              "        text-align: right;\n",
              "    }\n",
              "</style>\n",
              "<table border=\"1\" class=\"dataframe\">\n",
              "  <thead>\n",
              "    <tr style=\"text-align: right;\">\n",
              "      <th></th>\n",
              "      <th>startYear</th>\n",
              "      <th>endYear</th>\n",
              "      <th>episodes</th>\n",
              "      <th>rating</th>\n",
              "      <th>numVotes</th>\n",
              "      <th>isAdult</th>\n",
              "    </tr>\n",
              "  </thead>\n",
              "  <tbody>\n",
              "    <tr>\n",
              "      <th>count</th>\n",
              "      <td>6493.000000</td>\n",
              "      <td>1126.000000</td>\n",
              "      <td>2304.000000</td>\n",
              "      <td>6000.000000</td>\n",
              "      <td>6.000000e+03</td>\n",
              "      <td>7008.0</td>\n",
              "    </tr>\n",
              "    <tr>\n",
              "      <th>mean</th>\n",
              "      <td>2015.606653</td>\n",
              "      <td>2016.613677</td>\n",
              "      <td>38.510851</td>\n",
              "      <td>6.696400</td>\n",
              "      <td>1.961778e+04</td>\n",
              "      <td>0.0</td>\n",
              "    </tr>\n",
              "    <tr>\n",
              "      <th>std</th>\n",
              "      <td>7.855886</td>\n",
              "      <td>5.195806</td>\n",
              "      <td>237.894838</td>\n",
              "      <td>1.209824</td>\n",
              "      <td>7.975237e+04</td>\n",
              "      <td>0.0</td>\n",
              "    </tr>\n",
              "    <tr>\n",
              "      <th>min</th>\n",
              "      <td>1932.000000</td>\n",
              "      <td>1969.000000</td>\n",
              "      <td>1.000000</td>\n",
              "      <td>1.700000</td>\n",
              "      <td>5.000000e+00</td>\n",
              "      <td>0.0</td>\n",
              "    </tr>\n",
              "    <tr>\n",
              "      <th>25%</th>\n",
              "      <td>2015.000000</td>\n",
              "      <td>2016.000000</td>\n",
              "      <td>8.000000</td>\n",
              "      <td>6.000000</td>\n",
              "      <td>3.040000e+02</td>\n",
              "      <td>0.0</td>\n",
              "    </tr>\n",
              "    <tr>\n",
              "      <th>50%</th>\n",
              "      <td>2017.000000</td>\n",
              "      <td>2018.000000</td>\n",
              "      <td>14.000000</td>\n",
              "      <td>6.800000</td>\n",
              "      <td>1.312000e+03</td>\n",
              "      <td>0.0</td>\n",
              "    </tr>\n",
              "    <tr>\n",
              "      <th>75%</th>\n",
              "      <td>2019.000000</td>\n",
              "      <td>2019.000000</td>\n",
              "      <td>30.000000</td>\n",
              "      <td>7.600000</td>\n",
              "      <td>6.166750e+03</td>\n",
              "      <td>0.0</td>\n",
              "    </tr>\n",
              "    <tr>\n",
              "      <th>max</th>\n",
              "      <td>2022.000000</td>\n",
              "      <td>2022.000000</td>\n",
              "      <td>8358.000000</td>\n",
              "      <td>9.700000</td>\n",
              "      <td>1.697849e+06</td>\n",
              "      <td>0.0</td>\n",
              "    </tr>\n",
              "  </tbody>\n",
              "</table>\n",
              "</div>\n",
              "      <button class=\"colab-df-convert\" onclick=\"convertToInteractive('df-01c9a481-15a7-4be2-ace1-ebd19b3005eb')\"\n",
              "              title=\"Convert this dataframe to an interactive table.\"\n",
              "              style=\"display:none;\">\n",
              "        \n",
              "  <svg xmlns=\"http://www.w3.org/2000/svg\" height=\"24px\"viewBox=\"0 0 24 24\"\n",
              "       width=\"24px\">\n",
              "    <path d=\"M0 0h24v24H0V0z\" fill=\"none\"/>\n",
              "    <path d=\"M18.56 5.44l.94 2.06.94-2.06 2.06-.94-2.06-.94-.94-2.06-.94 2.06-2.06.94zm-11 1L8.5 8.5l.94-2.06 2.06-.94-2.06-.94L8.5 2.5l-.94 2.06-2.06.94zm10 10l.94 2.06.94-2.06 2.06-.94-2.06-.94-.94-2.06-.94 2.06-2.06.94z\"/><path d=\"M17.41 7.96l-1.37-1.37c-.4-.4-.92-.59-1.43-.59-.52 0-1.04.2-1.43.59L10.3 9.45l-7.72 7.72c-.78.78-.78 2.05 0 2.83L4 21.41c.39.39.9.59 1.41.59.51 0 1.02-.2 1.41-.59l7.78-7.78 2.81-2.81c.8-.78.8-2.07 0-2.86zM5.41 20L4 18.59l7.72-7.72 1.47 1.35L5.41 20z\"/>\n",
              "  </svg>\n",
              "      </button>\n",
              "      \n",
              "  <style>\n",
              "    .colab-df-container {\n",
              "      display:flex;\n",
              "      flex-wrap:wrap;\n",
              "      gap: 12px;\n",
              "    }\n",
              "\n",
              "    .colab-df-convert {\n",
              "      background-color: #E8F0FE;\n",
              "      border: none;\n",
              "      border-radius: 50%;\n",
              "      cursor: pointer;\n",
              "      display: none;\n",
              "      fill: #1967D2;\n",
              "      height: 32px;\n",
              "      padding: 0 0 0 0;\n",
              "      width: 32px;\n",
              "    }\n",
              "\n",
              "    .colab-df-convert:hover {\n",
              "      background-color: #E2EBFA;\n",
              "      box-shadow: 0px 1px 2px rgba(60, 64, 67, 0.3), 0px 1px 3px 1px rgba(60, 64, 67, 0.15);\n",
              "      fill: #174EA6;\n",
              "    }\n",
              "\n",
              "    [theme=dark] .colab-df-convert {\n",
              "      background-color: #3B4455;\n",
              "      fill: #D2E3FC;\n",
              "    }\n",
              "\n",
              "    [theme=dark] .colab-df-convert:hover {\n",
              "      background-color: #434B5C;\n",
              "      box-shadow: 0px 1px 3px 1px rgba(0, 0, 0, 0.15);\n",
              "      filter: drop-shadow(0px 1px 2px rgba(0, 0, 0, 0.3));\n",
              "      fill: #FFFFFF;\n",
              "    }\n",
              "  </style>\n",
              "\n",
              "      <script>\n",
              "        const buttonEl =\n",
              "          document.querySelector('#df-01c9a481-15a7-4be2-ace1-ebd19b3005eb button.colab-df-convert');\n",
              "        buttonEl.style.display =\n",
              "          google.colab.kernel.accessAllowed ? 'block' : 'none';\n",
              "\n",
              "        async function convertToInteractive(key) {\n",
              "          const element = document.querySelector('#df-01c9a481-15a7-4be2-ace1-ebd19b3005eb');\n",
              "          const dataTable =\n",
              "            await google.colab.kernel.invokeFunction('convertToInteractive',\n",
              "                                                     [key], {});\n",
              "          if (!dataTable) return;\n",
              "\n",
              "          const docLinkHtml = 'Like what you see? Visit the ' +\n",
              "            '<a target=\"_blank\" href=https://colab.research.google.com/notebooks/data_table.ipynb>data table notebook</a>'\n",
              "            + ' to learn more about interactive tables.';\n",
              "          element.innerHTML = '';\n",
              "          dataTable['output_type'] = 'display_data';\n",
              "          await google.colab.output.renderOutput(dataTable, element);\n",
              "          const docLink = document.createElement('div');\n",
              "          docLink.innerHTML = docLinkHtml;\n",
              "          element.appendChild(docLink);\n",
              "        }\n",
              "      </script>\n",
              "    </div>\n",
              "  </div>\n",
              "  "
            ]
          },
          "metadata": {},
          "execution_count": 7
        }
      ]
    },
    {
      "cell_type": "code",
      "source": [
        "df.isna().mean()"
      ],
      "metadata": {
        "colab": {
          "base_uri": "https://localhost:8080/"
        },
        "id": "5QkipB69J6qt",
        "outputId": "9fa24d80-660e-4877-ab66-564469f325f8"
      },
      "execution_count": null,
      "outputs": [
        {
          "output_type": "execute_result",
          "data": {
            "text/plain": [
              "imdb_id          0.000000\n",
              "title            0.000000\n",
              "popular_rank     0.000000\n",
              "certificate      0.656250\n",
              "startYear        0.073487\n",
              "endYear          0.839326\n",
              "episodes         0.671233\n",
              "runtime          0.000285\n",
              "type             0.000285\n",
              "orign_country    0.000000\n",
              "language         0.000000\n",
              "plot             0.056935\n",
              "summary          0.000000\n",
              "rating           0.143836\n",
              "numVotes         0.143836\n",
              "genres           0.000285\n",
              "isAdult          0.000000\n",
              "cast             0.000000\n",
              "image_url        0.000000\n",
              "dtype: float64"
            ]
          },
          "metadata": {},
          "execution_count": 8
        }
      ]
    },
    {
      "cell_type": "code",
      "source": [
        "df.shape"
      ],
      "metadata": {
        "colab": {
          "base_uri": "https://localhost:8080/"
        },
        "id": "kRt48D1FKBYT",
        "outputId": "c38c3b37-3276-4704-ac33-7ffa9768ef16"
      },
      "execution_count": null,
      "outputs": [
        {
          "output_type": "execute_result",
          "data": {
            "text/plain": [
              "(7008, 19)"
            ]
          },
          "metadata": {},
          "execution_count": 9
        }
      ]
    },
    {
      "cell_type": "code",
      "source": [
        "red['title'][10]"
      ],
      "metadata": {
        "colab": {
          "base_uri": "https://localhost:8080/",
          "height": 35
        },
        "id": "l1gQY_bvLSYd",
        "outputId": "9d90fa89-19bb-4468-ba47-d303d890c55b"
      },
      "execution_count": null,
      "outputs": [
        {
          "output_type": "execute_result",
          "data": {
            "text/plain": [
              "'Dirty John'"
            ],
            "application/vnd.google.colaboratory.intrinsic+json": {
              "type": "string"
            }
          },
          "metadata": {},
          "execution_count": 91
        }
      ]
    },
    {
      "cell_type": "code",
      "source": [
        "index = red.index\n",
        "titles = red['title']\n",
        "indices = pd.Series(index, index = titles).drop_duplicates()\n",
        "indices"
      ],
      "metadata": {
        "colab": {
          "base_uri": "https://localhost:8080/"
        },
        "id": "OTOiEsmoNnve",
        "outputId": "c2ae597b-f652-471e-eaa8-400c6eba6b8e"
      },
      "execution_count": null,
      "outputs": [
        {
          "output_type": "execute_result",
          "data": {
            "text/plain": [
              "title\n",
              "Lucifer                     0\n",
              "Army of the Dead            1\n",
              "The Kominsky Method         2\n",
              "Friends                     3\n",
              "Ragnarok                    4\n",
              "                         ... \n",
              " Merry Happy Whatever    7003\n",
              " The Morning Show        7004\n",
              " Losers                  7005\n",
              " Firefly Lane            7006\n",
              " Medical Police          7007\n",
              "Length: 7008, dtype: int64"
            ]
          },
          "metadata": {},
          "execution_count": 93
        }
      ]
    },
    {
      "cell_type": "code",
      "source": [
        "#Print plot overviews of the first 5 movies.\n",
        "\n",
        "df['summary'].head()"
      ],
      "metadata": {
        "colab": {
          "base_uri": "https://localhost:8080/"
        },
        "id": "XQiFPLZbSY4i",
        "outputId": "d92875e4-5b99-46ed-d5c2-e0bf043ccfa7"
      },
      "execution_count": null,
      "outputs": [
        {
          "output_type": "execute_result",
          "data": {
            "text/plain": [
              "0    Lucifer Morningstar, bored from his sulking li...\n",
              "1    With the abandoned, walled city of Las Vegas o...\n",
              "2    Michael Douglas plays an actor who made it big...\n",
              "3    Ross Geller, Rachel Green, Monica Geller, Joey...\n",
              "4    In the small fictional town of Edda coming of ...\n",
              "Name: summary, dtype: object"
            ]
          },
          "metadata": {},
          "execution_count": 88
        }
      ]
    },
    {
      "cell_type": "code",
      "source": [
        "from sklearn.feature_extraction.text import TfidfVectorizer\n",
        "\n",
        "#Define a TF-IDF Vectorizer Object. Remove all english stop words such as 'the', 'a'\n",
        "tfidf = TfidfVectorizer(stop_words='english')\n",
        "\n",
        "#Replace NaN with an empty string\n",
        "df['summary'] = df['summary'].fillna('')\n",
        "\n",
        "#Construct the required TF-IDF matrix by fitting and transforming the data\n",
        "tfidf_matrix = tfidf.fit_transform(df['summary'])\n",
        "\n",
        "#Output the shape of tfidf_matrix\n",
        "tfidf_matrix.shape"
      ],
      "metadata": {
        "colab": {
          "base_uri": "https://localhost:8080/"
        },
        "id": "cz6tMQgLSlyR",
        "outputId": "faccc747-c7c6-4271-91ab-a44817d48f60"
      },
      "execution_count": null,
      "outputs": [
        {
          "output_type": "execute_result",
          "data": {
            "text/plain": [
              "(7008, 29336)"
            ]
          },
          "metadata": {},
          "execution_count": 73
        }
      ]
    },
    {
      "cell_type": "code",
      "source": [
        "#Array mapping from feature integer indices to feature name.\n",
        "tfidf.get_feature_names()[5000:5010]"
      ],
      "metadata": {
        "colab": {
          "base_uri": "https://localhost:8080/"
        },
        "id": "d0cWvhxDSxuC",
        "outputId": "c291fdfa-5fd9-44be-9d54-7377a90f210b"
      },
      "execution_count": null,
      "outputs": [
        {
          "output_type": "stream",
          "name": "stderr",
          "text": [
            "/usr/local/lib/python3.7/dist-packages/sklearn/utils/deprecation.py:87: FutureWarning: Function get_feature_names is deprecated; get_feature_names is deprecated in 1.0 and will be removed in 1.2. Please use get_feature_names_out instead.\n",
            "  warnings.warn(msg, category=FutureWarning)\n"
          ]
        },
        {
          "output_type": "execute_result",
          "data": {
            "text/plain": [
              "['ciro',\n",
              " 'cirque',\n",
              " 'cissy',\n",
              " 'cited',\n",
              " 'cities',\n",
              " 'citizen',\n",
              " 'citizenry',\n",
              " 'citizens',\n",
              " 'citizenship',\n",
              " 'citizenships']"
            ]
          },
          "metadata": {},
          "execution_count": 74
        }
      ]
    },
    {
      "cell_type": "code",
      "source": [
        "# Compute the cosine similarity matrix\n",
        "cosine_sim = linear_kernel(tfidf_matrix, tfidf_matrix)"
      ],
      "metadata": {
        "id": "5xgoI7EWSz_B"
      },
      "execution_count": null,
      "outputs": []
    },
    {
      "cell_type": "code",
      "source": [
        "cosine_sim.shape"
      ],
      "metadata": {
        "colab": {
          "base_uri": "https://localhost:8080/"
        },
        "id": "QhGipF4ZTNh7",
        "outputId": "335cb840-4f3c-4da8-e570-71e252a3de50"
      },
      "execution_count": null,
      "outputs": [
        {
          "output_type": "execute_result",
          "data": {
            "text/plain": [
              "(7008, 7008)"
            ]
          },
          "metadata": {},
          "execution_count": 77
        }
      ]
    },
    {
      "cell_type": "code",
      "source": [
        "cosine_sim[1]"
      ],
      "metadata": {
        "colab": {
          "base_uri": "https://localhost:8080/"
        },
        "id": "OyZv1-zBTW95",
        "outputId": "86ab4327-ad1d-4efe-bcf5-7e50c319e9af"
      },
      "execution_count": null,
      "outputs": [
        {
          "output_type": "execute_result",
          "data": {
            "text/plain": [
              "array([0.00299229, 1.        , 0.00985012, ..., 0.01151057, 0.        ,\n",
              "       0.        ])"
            ]
          },
          "metadata": {},
          "execution_count": 78
        }
      ]
    },
    {
      "cell_type": "code",
      "source": [
        "#Construct a reverse map of indices and movie titles\n",
        "indices = pd.Series(df.index, index=df['title']).drop_duplicates()"
      ],
      "metadata": {
        "id": "IWa4PRKzTgJn"
      },
      "execution_count": null,
      "outputs": []
    },
    {
      "cell_type": "code",
      "source": [
        "indices[:10]"
      ],
      "metadata": {
        "colab": {
          "base_uri": "https://localhost:8080/"
        },
        "id": "sNn5txlYTlRy",
        "outputId": "96194338-44a7-4829-888b-6d7f4f137c34"
      },
      "execution_count": null,
      "outputs": [
        {
          "output_type": "execute_result",
          "data": {
            "text/plain": [
              "title\n",
              "Lucifer                0\n",
              "Army of the Dead       1\n",
              "The Kominsky Method    2\n",
              "Friends                3\n",
              "Ragnarok               4\n",
              "StartUp                5\n",
              "Grey's Anatomy         6\n",
              "Sweet Tooth            7\n",
              "The Blacklist          8\n",
              "Jupiter's Legacy       9\n",
              "dtype: int64"
            ]
          },
          "metadata": {},
          "execution_count": 82
        }
      ]
    },
    {
      "cell_type": "code",
      "source": [
        "# Function that takes in movie title as input and outputs most similar movies\n",
        "def get_recommendations(title, cosine_sim=cosine_sim):\n",
        "    # Get the index of the movie that matches the title\n",
        "    idx = indices[title]\n",
        "\n",
        "    # Get the pairwsie similarity scores of all movies with that movie\n",
        "    sim_scores = list(enumerate(cosine_sim[idx]))\n",
        "\n",
        "    # Sort the movies based on the similarity scores\n",
        "    sim_scores = sorted(sim_scores, key=lambda x: x[1], reverse=True)\n",
        "\n",
        "    # Get the scores of the 10 most similar movies\n",
        "    sim_scores = sim_scores[1:11]\n",
        "\n",
        "    # Get the movie indices\n",
        "    movie_indices = [i[0] for i in sim_scores]\n",
        "\n",
        "    # Return the top 10 most similar movies\n",
        "    return df['title'].iloc[movie_indices]"
      ],
      "metadata": {
        "id": "Xsje-533T8AC"
      },
      "execution_count": null,
      "outputs": []
    },
    {
      "cell_type": "code",
      "source": [
        "get_recommendations('Ragnarok')"
      ],
      "metadata": {
        "colab": {
          "base_uri": "https://localhost:8080/"
        },
        "id": "VeXzItCyUC4l",
        "outputId": "218afc79-9da1-4698-e7f8-be0d724cac7d"
      },
      "execution_count": null,
      "outputs": [
        {
          "output_type": "execute_result",
          "data": {
            "text/plain": [
              "4893    Dragons: Rescue Riders: Huttsgalor Holiday\n",
              "983                                         V-Wars\n",
              "1230                                   Let It Snow\n",
              "3448                           Paranormal Survivor\n",
              "4020                                        Target\n",
              "3831                            Only for One Night\n",
              "3667                             Generation Iron 2\n",
              "1532                               Jusqu'au déclin\n",
              "859                                     The I-Land\n",
              "3613                                     Followers\n",
              "Name: title, dtype: object"
            ]
          },
          "metadata": {},
          "execution_count": 94
        }
      ]
    }
  ]
}